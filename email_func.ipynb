{
 "cells": [
  {
   "cell_type": "code",
   "execution_count": null,
   "id": "cf3f76fa",
   "metadata": {},
   "outputs": [],
   "source": [
    "# Функция для создания почтовых адресов\n",
    "def email_gen(list_of_names):\n",
    "    emails = []\n",
    "    for i in list_of_names:\n",
    "        letter = 1\n",
    "        while i[1] + '.' + i[0][0:letter] + '@company.io' in emails:\n",
    "            letter+=1\n",
    "        emails.append(i[1] + '.' + i[0][0:letter] + '@company.io')\n",
    "    return emails\n",
    "\n",
    "'''\n",
    "Функция принимает список списков [['Имя_1', 'Фамилия_1'], ['Имя_2', 'Фамилия_2'], \n",
    "['Имя_3', 'Фамилия_3']] из имен и фамилий list_of_names. \n",
    "Далее создается пустой список emails, который в ходе выполнения, заполнится почтовыми адресами. \n",
    "Запускается цикл для каждого списка из имени и фамилии ['Имя_1', 'Фамилия_1']. \n",
    "Устанавливается окончание среза letter = 1. \n",
    "Далее проходит проверка на совпадение, если в списке адресов уже есть такой же адрес \n",
    "(например имя и фамилия сотрудников совпадают), то срез i[0][0:letter] увеличивается на 1 символ. \n",
    "После в список адресов добавляется новый адрес. \n",
    "Адреса присваиваются пользователям по следующей формуле: \n",
    "берется фамилия сотрудника, добавляется точка, \n",
    "затем добавляется первая буква имени и остаточная часть '@company.io'. \n",
    "Если имена и фамилии сотрудников совпадают, к первой букве имени добавляется вторая и т.д.\n",
    "'''\n",
    "\n",
    "print(email_gen([['Ivan', 'Petrov'], ['Ivan', 'Petrov'], ['Ivan', 'Petrov']]))\n",
    "# результат: ['Petrov.I@company.io', 'Petrov.Iv@company.io', 'Petrov.Iva@company.io']"
   ]
  }
 ],
 "metadata": {
  "kernelspec": {
   "display_name": "Python 3 (ipykernel)",
   "language": "python",
   "name": "python3"
  },
  "language_info": {
   "codemirror_mode": {
    "name": "ipython",
    "version": 3
   },
   "file_extension": ".py",
   "mimetype": "text/x-python",
   "name": "python",
   "nbconvert_exporter": "python",
   "pygments_lexer": "ipython3",
   "version": "3.9.12"
  }
 },
 "nbformat": 4,
 "nbformat_minor": 5
}
