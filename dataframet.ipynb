{
 "cells": [
  {
   "cell_type": "code",
   "execution_count": 305,
   "metadata": {
    "collapsed": true,
    "pycharm": {
     "name": "#%%\n"
    }
   },
   "outputs": [],
   "source": [
    "import psycopg2\n",
    "import psycopg2.extras as extras\n",
    "import pandas as pd\n",
    "import numpy as np\n",
    "\n",
    "# подключаемся к серверу\n",
    "conn = psycopg2.connect(database = \"edu\",\n",
    "                        host = \"de-edu-db.chronosavant.ru\",\n",
    "                        user = \"de11an\",\n",
    "                        password = \"peregrintook\",\n",
    "                        port = \"5432\")\n",
    "conn.autocommit = False\n",
    "cursor = conn.cursor()"
   ]
  },
  {
   "cell_type": "code",
   "execution_count": 306,
   "outputs": [],
   "source": [
    "# берем таблицу med_name\n",
    "cursor.execute(\"select * from de.med_name\")\n",
    "med_name = cursor.fetchall()\n",
    "med_name = pd.DataFrame(med_name, columns=['id', 'name', 'phone'])\n",
    "# берем таблицу med_an_name\n",
    "cursor.execute(\"select * from de.med_an_name\")\n",
    "med_an_name = cursor.fetchall()\n",
    "med_an_name = pd.DataFrame(med_an_name, columns=['id', 'name', 'is_simple', 'min_value', 'max_value'])\n",
    "# берем 2 таблицы medicine.xlsx\n",
    "sheet_easy = pd.read_excel( 'medicine.xlsx', sheet_name='easy', header=0, index_col=None )\n",
    "sheet_hard = pd.read_excel( 'medicine.xlsx', sheet_name='hard', header=0, index_col=None )"
   ],
   "metadata": {
    "collapsed": false,
    "pycharm": {
     "name": "#%%\n"
    }
   }
  },
  {
   "cell_type": "code",
   "execution_count": 307,
   "outputs": [],
   "source": [
    "# странно, приведение типов в столбце не помогает, сделал через замену числа на строку в ячейке\n",
    "sheet_easy.loc[sheet_easy[\"Анализ\"] == 890, \"Анализ\"] = \"890\"\n",
    "sheet_hard.loc[sheet_hard[\"Анализ\"] == 890, \"Анализ\"] = \"890\"\n",
    "# переименовываем столбцы для объединения\n",
    "med_name.rename(columns={'id':'Код пациента'}, inplace=True)\n",
    "med_an_name.rename(columns={'id':'Анализ', 'name':'name_an'}, inplace=True)"
   ],
   "metadata": {
    "collapsed": false,
    "pycharm": {
     "name": "#%%\n"
    }
   }
  },
  {
   "cell_type": "code",
   "execution_count": 314,
   "outputs": [
    {
     "data": {
      "text/plain": "    Код пациента             name               phone Анализ      Значение\n0            191    Чемиренко Д.А  +7 (905) 912-28-47     IG             6\n1            140     Головцов Р.Р  +7 (906) 949-98-17   ALAT            70\n2            119      Сакобов А.Т  +7 (952) 996-60-21    2-A           4.1\n3             57       Тарлов И.Е  +7 (900) 875-67-38   G124           342\n4             57       Тарлов И.Е  +7 (900) 875-67-38      N        Отриц.\n5            195     Свенюков Б.Ю  +7 (983) 577-27-21    890             5\n6             53   Попелицкий Р.Г  +7 (976) 841-79-95      S         30.84\n7             53   Попелицкий Р.Г  +7 (976) 841-79-95    GLK             -\n8             96     Умралиев Р.Э  +7 (941) 954-55-88  1-100            98\n9             96     Умралиев Р.Э  +7 (941) 954-55-88    IRR            26\n10            62     Бондарев С.Г  +7 (906) 933-95-63      S            78\n11           199   Цетнарский Э.И  +7 (908) 245-80-47  3-511          95.3\n12           199   Цетнарский Э.И  +7 (908) 245-80-47  1-100            67\n13           114      Даклеев Т.М  +7 (925) 612-93-95    2-A             4\n14           114      Даклеев Т.М  +7 (925) 612-93-95   G124           347\n15            73  Гармокацкий С.Л  +7 (935) 653-32-78      S            14\n16            73  Гармокацкий С.Л  +7 (935) 653-32-78      N      Положит.\n17            73  Гармокацкий С.Л  +7 (935) 653-32-78      C             2\n18            80    Маржецкий А.Я  +7 (949) 912-97-84      Z           1.4\n19           151  Поляховский Г.Д  +7 (998) 596-45-47    2-A             5\n20           127     Галендук Л.Г  +7 (935) 164-87-46    IRR            42\n21           127     Галендук Л.Г  +7 (935) 164-87-46    BBB  Положительно\n22           135    Номоконов Г.Р  +7 (940) 384-74-90    2-A             3\n23           135    Номоконов Г.Р  +7 (940) 384-74-90  1-875             +\n24            77  Шелкоплясов Э.В  +7 (979) 643-71-75   G124           398\n25            67   Эльменькин Д.Р  +7 (982) 643-36-73      Z           0.3\n26           176        Ламок А.О  +7 (984) 779-54-57    2-A             0\n27           176        Ламок А.О  +7 (984) 779-54-57    GLK           Отр\n28           163   Бочечкаров Э.Д  +7 (943) 102-79-69    890             5\n29           192  Голяминских Г.Р  +7 (903) 280-60-58     IG             4\n30            72      Пахарев Ю.Э  +7 (977) 810-48-75  1-900             3\n31           111     Ведмидев Я.У  +7 (997) 541-22-17     IG             6\n32           118     Сисемкин В.Р  +7 (960) 542-96-83   G124           202\n33           148     Штыкулин И.А  +7 (949) 862-47-83  1-900             0\n34           162       Шапаев Л.А  +7 (919) 109-43-56     AU            40\n35            76      Млицкий С.А  +7 (987) 542-73-38    aZz            20\n36           101      Загатин А.Д  +7 (987) 928-64-89      S            91",
      "text/html": "<div>\n<style scoped>\n    .dataframe tbody tr th:only-of-type {\n        vertical-align: middle;\n    }\n\n    .dataframe tbody tr th {\n        vertical-align: top;\n    }\n\n    .dataframe thead th {\n        text-align: right;\n    }\n</style>\n<table border=\"1\" class=\"dataframe\">\n  <thead>\n    <tr style=\"text-align: right;\">\n      <th></th>\n      <th>Код пациента</th>\n      <th>name</th>\n      <th>phone</th>\n      <th>Анализ</th>\n      <th>Значение</th>\n    </tr>\n  </thead>\n  <tbody>\n    <tr>\n      <th>0</th>\n      <td>191</td>\n      <td>Чемиренко Д.А</td>\n      <td>+7 (905) 912-28-47</td>\n      <td>IG</td>\n      <td>6</td>\n    </tr>\n    <tr>\n      <th>1</th>\n      <td>140</td>\n      <td>Головцов Р.Р</td>\n      <td>+7 (906) 949-98-17</td>\n      <td>ALAT</td>\n      <td>70</td>\n    </tr>\n    <tr>\n      <th>2</th>\n      <td>119</td>\n      <td>Сакобов А.Т</td>\n      <td>+7 (952) 996-60-21</td>\n      <td>2-A</td>\n      <td>4.1</td>\n    </tr>\n    <tr>\n      <th>3</th>\n      <td>57</td>\n      <td>Тарлов И.Е</td>\n      <td>+7 (900) 875-67-38</td>\n      <td>G124</td>\n      <td>342</td>\n    </tr>\n    <tr>\n      <th>4</th>\n      <td>57</td>\n      <td>Тарлов И.Е</td>\n      <td>+7 (900) 875-67-38</td>\n      <td>N</td>\n      <td>Отриц.</td>\n    </tr>\n    <tr>\n      <th>5</th>\n      <td>195</td>\n      <td>Свенюков Б.Ю</td>\n      <td>+7 (983) 577-27-21</td>\n      <td>890</td>\n      <td>5</td>\n    </tr>\n    <tr>\n      <th>6</th>\n      <td>53</td>\n      <td>Попелицкий Р.Г</td>\n      <td>+7 (976) 841-79-95</td>\n      <td>S</td>\n      <td>30.84</td>\n    </tr>\n    <tr>\n      <th>7</th>\n      <td>53</td>\n      <td>Попелицкий Р.Г</td>\n      <td>+7 (976) 841-79-95</td>\n      <td>GLK</td>\n      <td>-</td>\n    </tr>\n    <tr>\n      <th>8</th>\n      <td>96</td>\n      <td>Умралиев Р.Э</td>\n      <td>+7 (941) 954-55-88</td>\n      <td>1-100</td>\n      <td>98</td>\n    </tr>\n    <tr>\n      <th>9</th>\n      <td>96</td>\n      <td>Умралиев Р.Э</td>\n      <td>+7 (941) 954-55-88</td>\n      <td>IRR</td>\n      <td>26</td>\n    </tr>\n    <tr>\n      <th>10</th>\n      <td>62</td>\n      <td>Бондарев С.Г</td>\n      <td>+7 (906) 933-95-63</td>\n      <td>S</td>\n      <td>78</td>\n    </tr>\n    <tr>\n      <th>11</th>\n      <td>199</td>\n      <td>Цетнарский Э.И</td>\n      <td>+7 (908) 245-80-47</td>\n      <td>3-511</td>\n      <td>95.3</td>\n    </tr>\n    <tr>\n      <th>12</th>\n      <td>199</td>\n      <td>Цетнарский Э.И</td>\n      <td>+7 (908) 245-80-47</td>\n      <td>1-100</td>\n      <td>67</td>\n    </tr>\n    <tr>\n      <th>13</th>\n      <td>114</td>\n      <td>Даклеев Т.М</td>\n      <td>+7 (925) 612-93-95</td>\n      <td>2-A</td>\n      <td>4</td>\n    </tr>\n    <tr>\n      <th>14</th>\n      <td>114</td>\n      <td>Даклеев Т.М</td>\n      <td>+7 (925) 612-93-95</td>\n      <td>G124</td>\n      <td>347</td>\n    </tr>\n    <tr>\n      <th>15</th>\n      <td>73</td>\n      <td>Гармокацкий С.Л</td>\n      <td>+7 (935) 653-32-78</td>\n      <td>S</td>\n      <td>14</td>\n    </tr>\n    <tr>\n      <th>16</th>\n      <td>73</td>\n      <td>Гармокацкий С.Л</td>\n      <td>+7 (935) 653-32-78</td>\n      <td>N</td>\n      <td>Положит.</td>\n    </tr>\n    <tr>\n      <th>17</th>\n      <td>73</td>\n      <td>Гармокацкий С.Л</td>\n      <td>+7 (935) 653-32-78</td>\n      <td>C</td>\n      <td>2</td>\n    </tr>\n    <tr>\n      <th>18</th>\n      <td>80</td>\n      <td>Маржецкий А.Я</td>\n      <td>+7 (949) 912-97-84</td>\n      <td>Z</td>\n      <td>1.4</td>\n    </tr>\n    <tr>\n      <th>19</th>\n      <td>151</td>\n      <td>Поляховский Г.Д</td>\n      <td>+7 (998) 596-45-47</td>\n      <td>2-A</td>\n      <td>5</td>\n    </tr>\n    <tr>\n      <th>20</th>\n      <td>127</td>\n      <td>Галендук Л.Г</td>\n      <td>+7 (935) 164-87-46</td>\n      <td>IRR</td>\n      <td>42</td>\n    </tr>\n    <tr>\n      <th>21</th>\n      <td>127</td>\n      <td>Галендук Л.Г</td>\n      <td>+7 (935) 164-87-46</td>\n      <td>BBB</td>\n      <td>Положительно</td>\n    </tr>\n    <tr>\n      <th>22</th>\n      <td>135</td>\n      <td>Номоконов Г.Р</td>\n      <td>+7 (940) 384-74-90</td>\n      <td>2-A</td>\n      <td>3</td>\n    </tr>\n    <tr>\n      <th>23</th>\n      <td>135</td>\n      <td>Номоконов Г.Р</td>\n      <td>+7 (940) 384-74-90</td>\n      <td>1-875</td>\n      <td>+</td>\n    </tr>\n    <tr>\n      <th>24</th>\n      <td>77</td>\n      <td>Шелкоплясов Э.В</td>\n      <td>+7 (979) 643-71-75</td>\n      <td>G124</td>\n      <td>398</td>\n    </tr>\n    <tr>\n      <th>25</th>\n      <td>67</td>\n      <td>Эльменькин Д.Р</td>\n      <td>+7 (982) 643-36-73</td>\n      <td>Z</td>\n      <td>0.3</td>\n    </tr>\n    <tr>\n      <th>26</th>\n      <td>176</td>\n      <td>Ламок А.О</td>\n      <td>+7 (984) 779-54-57</td>\n      <td>2-A</td>\n      <td>0</td>\n    </tr>\n    <tr>\n      <th>27</th>\n      <td>176</td>\n      <td>Ламок А.О</td>\n      <td>+7 (984) 779-54-57</td>\n      <td>GLK</td>\n      <td>Отр</td>\n    </tr>\n    <tr>\n      <th>28</th>\n      <td>163</td>\n      <td>Бочечкаров Э.Д</td>\n      <td>+7 (943) 102-79-69</td>\n      <td>890</td>\n      <td>5</td>\n    </tr>\n    <tr>\n      <th>29</th>\n      <td>192</td>\n      <td>Голяминских Г.Р</td>\n      <td>+7 (903) 280-60-58</td>\n      <td>IG</td>\n      <td>4</td>\n    </tr>\n    <tr>\n      <th>30</th>\n      <td>72</td>\n      <td>Пахарев Ю.Э</td>\n      <td>+7 (977) 810-48-75</td>\n      <td>1-900</td>\n      <td>3</td>\n    </tr>\n    <tr>\n      <th>31</th>\n      <td>111</td>\n      <td>Ведмидев Я.У</td>\n      <td>+7 (997) 541-22-17</td>\n      <td>IG</td>\n      <td>6</td>\n    </tr>\n    <tr>\n      <th>32</th>\n      <td>118</td>\n      <td>Сисемкин В.Р</td>\n      <td>+7 (960) 542-96-83</td>\n      <td>G124</td>\n      <td>202</td>\n    </tr>\n    <tr>\n      <th>33</th>\n      <td>148</td>\n      <td>Штыкулин И.А</td>\n      <td>+7 (949) 862-47-83</td>\n      <td>1-900</td>\n      <td>0</td>\n    </tr>\n    <tr>\n      <th>34</th>\n      <td>162</td>\n      <td>Шапаев Л.А</td>\n      <td>+7 (919) 109-43-56</td>\n      <td>AU</td>\n      <td>40</td>\n    </tr>\n    <tr>\n      <th>35</th>\n      <td>76</td>\n      <td>Млицкий С.А</td>\n      <td>+7 (987) 542-73-38</td>\n      <td>aZz</td>\n      <td>20</td>\n    </tr>\n    <tr>\n      <th>36</th>\n      <td>101</td>\n      <td>Загатин А.Д</td>\n      <td>+7 (987) 928-64-89</td>\n      <td>S</td>\n      <td>91</td>\n    </tr>\n  </tbody>\n</table>\n</div>"
     },
     "execution_count": 314,
     "metadata": {},
     "output_type": "execute_result"
    }
   ],
   "source": [
    "# объединяем таблицы\n",
    "df1 = pd.merge(med_name, sheet_hard, on = 'Код пациента', how = 'left')\n",
    "df2 = pd.merge(df1, med_an_name, on = 'Анализ', how = 'left')\n",
    "df1"
   ],
   "metadata": {
    "collapsed": false,
    "pycharm": {
     "name": "#%%\n"
    }
   }
  },
  {
   "cell_type": "code",
   "execution_count": 312,
   "outputs": [
    {
     "ename": "TypeError",
     "evalue": "'<' not supported between instances of 'str' and 'decimal.Decimal'",
     "output_type": "error",
     "traceback": [
      "\u001B[1;31m---------------------------------------------------------------------------\u001B[0m",
      "\u001B[1;31mTypeError\u001B[0m                                 Traceback (most recent call last)",
      "Input \u001B[1;32mIn [312]\u001B[0m, in \u001B[0;36m<cell line: 3>\u001B[1;34m()\u001B[0m\n\u001B[0;32m      1\u001B[0m \u001B[38;5;66;03m# создаем столбец с результатом анализа\u001B[39;00m\n\u001B[0;32m      2\u001B[0m conditions \u001B[38;5;241m=\u001B[39m [\n\u001B[1;32m----> 3\u001B[0m     (\u001B[43mdf2\u001B[49m\u001B[43m \u001B[49m\u001B[43m[\u001B[49m\u001B[38;5;124;43m'\u001B[39;49m\u001B[38;5;124;43mЗначение\u001B[39;49m\u001B[38;5;124;43m'\u001B[39;49m\u001B[43m]\u001B[49m\u001B[43m \u001B[49m\u001B[38;5;241;43m<\u001B[39;49m\u001B[43m \u001B[49m\u001B[43mdf2\u001B[49m\u001B[43m \u001B[49m\u001B[43m[\u001B[49m\u001B[38;5;124;43m'\u001B[39;49m\u001B[38;5;124;43mmin_value\u001B[39;49m\u001B[38;5;124;43m'\u001B[39;49m\u001B[43m]\u001B[49m),\n\u001B[0;32m      4\u001B[0m     (df2 [\u001B[38;5;124m'\u001B[39m\u001B[38;5;124mЗначение\u001B[39m\u001B[38;5;124m'\u001B[39m] \u001B[38;5;241m>\u001B[39m df2 [\u001B[38;5;124m'\u001B[39m\u001B[38;5;124mmax_value\u001B[39m\u001B[38;5;124m'\u001B[39m]),\n\u001B[0;32m      5\u001B[0m     ((df2 [\u001B[38;5;124m'\u001B[39m\u001B[38;5;124mЗначение\u001B[39m\u001B[38;5;124m'\u001B[39m] \u001B[38;5;241m>\u001B[39m\u001B[38;5;241m=\u001B[39m df2 [\u001B[38;5;124m'\u001B[39m\u001B[38;5;124mmin_value\u001B[39m\u001B[38;5;124m'\u001B[39m])\u001B[38;5;241m&\u001B[39m(df2 [\u001B[38;5;124m'\u001B[39m\u001B[38;5;124mЗначение\u001B[39m\u001B[38;5;124m'\u001B[39m] \u001B[38;5;241m<\u001B[39m\u001B[38;5;241m=\u001B[39m df2 [\u001B[38;5;124m'\u001B[39m\u001B[38;5;124mmax_value\u001B[39m\u001B[38;5;124m'\u001B[39m])),\n\u001B[0;32m      6\u001B[0m     (df2 [\u001B[38;5;124m'\u001B[39m\u001B[38;5;124mЗначение\u001B[39m\u001B[38;5;124m'\u001B[39m]\u001B[38;5;241m.\u001B[39mstr\u001B[38;5;241m.\u001B[39mcontains(\u001B[38;5;124m'\u001B[39m\u001B[38;5;124mПоложит|+\u001B[39m\u001B[38;5;124m'\u001B[39m)),\n\u001B[0;32m      7\u001B[0m     (df2 [\u001B[38;5;124m'\u001B[39m\u001B[38;5;124mЗначение\u001B[39m\u001B[38;5;124m'\u001B[39m]\u001B[38;5;241m.\u001B[39mstr\u001B[38;5;241m.\u001B[39mcontains(\u001B[38;5;124m'\u001B[39m\u001B[38;5;124mОтр|-\u001B[39m\u001B[38;5;124m'\u001B[39m))\n\u001B[0;32m      8\u001B[0m ]\n\u001B[0;32m      9\u001B[0m values \u001B[38;5;241m=\u001B[39m [\u001B[38;5;124m'\u001B[39m\u001B[38;5;124mПонижен\u001B[39m\u001B[38;5;124m'\u001B[39m, \u001B[38;5;124m'\u001B[39m\u001B[38;5;124mПовышен\u001B[39m\u001B[38;5;124m'\u001B[39m, \u001B[38;5;124m'\u001B[39m\u001B[38;5;124mНорма\u001B[39m\u001B[38;5;124m'\u001B[39m, \u001B[38;5;124m'\u001B[39m\u001B[38;5;124mПоложительный\u001B[39m\u001B[38;5;124m'\u001B[39m, \u001B[38;5;124m'\u001B[39m\u001B[38;5;124mОтрицательный\u001B[39m\u001B[38;5;124m'\u001B[39m]\n\u001B[0;32m     10\u001B[0m df2[\u001B[38;5;124m'\u001B[39m\u001B[38;5;124mresult\u001B[39m\u001B[38;5;124m'\u001B[39m] \u001B[38;5;241m=\u001B[39m np\u001B[38;5;241m.\u001B[39mselect(conditions, values)\n",
      "File \u001B[1;32m~\\AppData\\Local\\Programs\\Python\\Python310\\lib\\site-packages\\pandas\\core\\ops\\common.py:70\u001B[0m, in \u001B[0;36m_unpack_zerodim_and_defer.<locals>.new_method\u001B[1;34m(self, other)\u001B[0m\n\u001B[0;32m     66\u001B[0m             \u001B[38;5;28;01mreturn\u001B[39;00m \u001B[38;5;28mNotImplemented\u001B[39m\n\u001B[0;32m     68\u001B[0m other \u001B[38;5;241m=\u001B[39m item_from_zerodim(other)\n\u001B[1;32m---> 70\u001B[0m \u001B[38;5;28;01mreturn\u001B[39;00m \u001B[43mmethod\u001B[49m\u001B[43m(\u001B[49m\u001B[38;5;28;43mself\u001B[39;49m\u001B[43m,\u001B[49m\u001B[43m \u001B[49m\u001B[43mother\u001B[49m\u001B[43m)\u001B[49m\n",
      "File \u001B[1;32m~\\AppData\\Local\\Programs\\Python\\Python310\\lib\\site-packages\\pandas\\core\\arraylike.py:48\u001B[0m, in \u001B[0;36mOpsMixin.__lt__\u001B[1;34m(self, other)\u001B[0m\n\u001B[0;32m     46\u001B[0m \u001B[38;5;129m@unpack_zerodim_and_defer\u001B[39m(\u001B[38;5;124m\"\u001B[39m\u001B[38;5;124m__lt__\u001B[39m\u001B[38;5;124m\"\u001B[39m)\n\u001B[0;32m     47\u001B[0m \u001B[38;5;28;01mdef\u001B[39;00m \u001B[38;5;21m__lt__\u001B[39m(\u001B[38;5;28mself\u001B[39m, other):\n\u001B[1;32m---> 48\u001B[0m     \u001B[38;5;28;01mreturn\u001B[39;00m \u001B[38;5;28;43mself\u001B[39;49m\u001B[38;5;241;43m.\u001B[39;49m\u001B[43m_cmp_method\u001B[49m\u001B[43m(\u001B[49m\u001B[43mother\u001B[49m\u001B[43m,\u001B[49m\u001B[43m \u001B[49m\u001B[43moperator\u001B[49m\u001B[38;5;241;43m.\u001B[39;49m\u001B[43mlt\u001B[49m\u001B[43m)\u001B[49m\n",
      "File \u001B[1;32m~\\AppData\\Local\\Programs\\Python\\Python310\\lib\\site-packages\\pandas\\core\\series.py:5623\u001B[0m, in \u001B[0;36mSeries._cmp_method\u001B[1;34m(self, other, op)\u001B[0m\n\u001B[0;32m   5620\u001B[0m rvalues \u001B[38;5;241m=\u001B[39m extract_array(other, extract_numpy\u001B[38;5;241m=\u001B[39m\u001B[38;5;28;01mTrue\u001B[39;00m, extract_range\u001B[38;5;241m=\u001B[39m\u001B[38;5;28;01mTrue\u001B[39;00m)\n\u001B[0;32m   5622\u001B[0m \u001B[38;5;28;01mwith\u001B[39;00m np\u001B[38;5;241m.\u001B[39merrstate(\u001B[38;5;28mall\u001B[39m\u001B[38;5;241m=\u001B[39m\u001B[38;5;124m\"\u001B[39m\u001B[38;5;124mignore\u001B[39m\u001B[38;5;124m\"\u001B[39m):\n\u001B[1;32m-> 5623\u001B[0m     res_values \u001B[38;5;241m=\u001B[39m \u001B[43mops\u001B[49m\u001B[38;5;241;43m.\u001B[39;49m\u001B[43mcomparison_op\u001B[49m\u001B[43m(\u001B[49m\u001B[43mlvalues\u001B[49m\u001B[43m,\u001B[49m\u001B[43m \u001B[49m\u001B[43mrvalues\u001B[49m\u001B[43m,\u001B[49m\u001B[43m \u001B[49m\u001B[43mop\u001B[49m\u001B[43m)\u001B[49m\n\u001B[0;32m   5625\u001B[0m \u001B[38;5;28;01mreturn\u001B[39;00m \u001B[38;5;28mself\u001B[39m\u001B[38;5;241m.\u001B[39m_construct_result(res_values, name\u001B[38;5;241m=\u001B[39mres_name)\n",
      "File \u001B[1;32m~\\AppData\\Local\\Programs\\Python\\Python310\\lib\\site-packages\\pandas\\core\\ops\\array_ops.py:283\u001B[0m, in \u001B[0;36mcomparison_op\u001B[1;34m(left, right, op)\u001B[0m\n\u001B[0;32m    280\u001B[0m     \u001B[38;5;28;01mreturn\u001B[39;00m invalid_comparison(lvalues, rvalues, op)\n\u001B[0;32m    282\u001B[0m \u001B[38;5;28;01melif\u001B[39;00m is_object_dtype(lvalues\u001B[38;5;241m.\u001B[39mdtype) \u001B[38;5;129;01mor\u001B[39;00m \u001B[38;5;28misinstance\u001B[39m(rvalues, \u001B[38;5;28mstr\u001B[39m):\n\u001B[1;32m--> 283\u001B[0m     res_values \u001B[38;5;241m=\u001B[39m \u001B[43mcomp_method_OBJECT_ARRAY\u001B[49m\u001B[43m(\u001B[49m\u001B[43mop\u001B[49m\u001B[43m,\u001B[49m\u001B[43m \u001B[49m\u001B[43mlvalues\u001B[49m\u001B[43m,\u001B[49m\u001B[43m \u001B[49m\u001B[43mrvalues\u001B[49m\u001B[43m)\u001B[49m\n\u001B[0;32m    285\u001B[0m \u001B[38;5;28;01melse\u001B[39;00m:\n\u001B[0;32m    286\u001B[0m     res_values \u001B[38;5;241m=\u001B[39m _na_arithmetic_op(lvalues, rvalues, op, is_cmp\u001B[38;5;241m=\u001B[39m\u001B[38;5;28;01mTrue\u001B[39;00m)\n",
      "File \u001B[1;32m~\\AppData\\Local\\Programs\\Python\\Python310\\lib\\site-packages\\pandas\\core\\ops\\array_ops.py:71\u001B[0m, in \u001B[0;36mcomp_method_OBJECT_ARRAY\u001B[1;34m(op, x, y)\u001B[0m\n\u001B[0;32m     69\u001B[0m     \u001B[38;5;28;01mif\u001B[39;00m x\u001B[38;5;241m.\u001B[39mshape \u001B[38;5;241m!=\u001B[39m y\u001B[38;5;241m.\u001B[39mshape:\n\u001B[0;32m     70\u001B[0m         \u001B[38;5;28;01mraise\u001B[39;00m \u001B[38;5;167;01mValueError\u001B[39;00m(\u001B[38;5;124m\"\u001B[39m\u001B[38;5;124mShapes must match\u001B[39m\u001B[38;5;124m\"\u001B[39m, x\u001B[38;5;241m.\u001B[39mshape, y\u001B[38;5;241m.\u001B[39mshape)\n\u001B[1;32m---> 71\u001B[0m     result \u001B[38;5;241m=\u001B[39m \u001B[43mlibops\u001B[49m\u001B[38;5;241;43m.\u001B[39;49m\u001B[43mvec_compare\u001B[49m\u001B[43m(\u001B[49m\u001B[43mx\u001B[49m\u001B[38;5;241;43m.\u001B[39;49m\u001B[43mravel\u001B[49m\u001B[43m(\u001B[49m\u001B[43m)\u001B[49m\u001B[43m,\u001B[49m\u001B[43m \u001B[49m\u001B[43my\u001B[49m\u001B[38;5;241;43m.\u001B[39;49m\u001B[43mravel\u001B[49m\u001B[43m(\u001B[49m\u001B[43m)\u001B[49m\u001B[43m,\u001B[49m\u001B[43m \u001B[49m\u001B[43mop\u001B[49m\u001B[43m)\u001B[49m\n\u001B[0;32m     72\u001B[0m \u001B[38;5;28;01melse\u001B[39;00m:\n\u001B[0;32m     73\u001B[0m     result \u001B[38;5;241m=\u001B[39m libops\u001B[38;5;241m.\u001B[39mscalar_compare(x\u001B[38;5;241m.\u001B[39mravel(), y, op)\n",
      "File \u001B[1;32m~\\AppData\\Local\\Programs\\Python\\Python310\\lib\\site-packages\\pandas\\_libs\\ops.pyx:173\u001B[0m, in \u001B[0;36mpandas._libs.ops.vec_compare\u001B[1;34m()\u001B[0m\n",
      "\u001B[1;31mTypeError\u001B[0m: '<' not supported between instances of 'str' and 'decimal.Decimal'"
     ]
    }
   ],
   "source": [
    "# создаем столбец с результатом анализа\n",
    "conditions = [\n",
    "    (df2 ['Значение'] < df2 ['min_value']),\n",
    "    (df2 ['Значение'] > df2 ['max_value']),\n",
    "    ((df2 ['Значение'] >= df2 ['min_value'])&(df2 ['Значение'] <= df2 ['max_value']))\n",
    "]\n",
    "values = ['Понижен', 'Повышен', 'Норма']\n",
    "df2['result'] = np.select(conditions, values)"
   ],
   "metadata": {
    "collapsed": false,
    "pycharm": {
     "name": "#%%\n"
    }
   }
  },
  {
   "cell_type": "code",
   "execution_count": 313,
   "outputs": [
    {
     "ename": "KeyError",
     "evalue": "\"['result'] not in index\"",
     "output_type": "error",
     "traceback": [
      "\u001B[1;31m---------------------------------------------------------------------------\u001B[0m",
      "\u001B[1;31mKeyError\u001B[0m                                  Traceback (most recent call last)",
      "Input \u001B[1;32mIn [313]\u001B[0m, in \u001B[0;36m<cell line: 2>\u001B[1;34m()\u001B[0m\n\u001B[0;32m      1\u001B[0m \u001B[38;5;66;03m# создаем таблицу с выборкой\u001B[39;00m\n\u001B[1;32m----> 2\u001B[0m df_final \u001B[38;5;241m=\u001B[39m \u001B[43mdf2\u001B[49m\u001B[43m[\u001B[49m\u001B[43m[\u001B[49m\u001B[38;5;124;43m'\u001B[39;49m\u001B[38;5;124;43mphone\u001B[39;49m\u001B[38;5;124;43m'\u001B[39;49m\u001B[43m,\u001B[49m\u001B[43m \u001B[49m\u001B[38;5;124;43m'\u001B[39;49m\u001B[38;5;124;43mname\u001B[39;49m\u001B[38;5;124;43m'\u001B[39;49m\u001B[43m,\u001B[49m\u001B[43m \u001B[49m\u001B[38;5;124;43m'\u001B[39;49m\u001B[38;5;124;43mname_an\u001B[39;49m\u001B[38;5;124;43m'\u001B[39;49m\u001B[43m,\u001B[49m\u001B[43m \u001B[49m\u001B[38;5;124;43m'\u001B[39;49m\u001B[38;5;124;43mresult\u001B[39;49m\u001B[38;5;124;43m'\u001B[39;49m\u001B[43m]\u001B[49m\u001B[43m]\u001B[49m\n\u001B[0;32m      3\u001B[0m df_final \u001B[38;5;241m=\u001B[39m df_final[(df_final [\u001B[38;5;124m'\u001B[39m\u001B[38;5;124mresult\u001B[39m\u001B[38;5;124m'\u001B[39m] \u001B[38;5;241m!=\u001B[39m \u001B[38;5;124m'\u001B[39m\u001B[38;5;124mНорма\u001B[39m\u001B[38;5;124m'\u001B[39m)]\n\u001B[0;32m      4\u001B[0m df_final\n",
      "File \u001B[1;32m~\\AppData\\Local\\Programs\\Python\\Python310\\lib\\site-packages\\pandas\\core\\frame.py:3511\u001B[0m, in \u001B[0;36mDataFrame.__getitem__\u001B[1;34m(self, key)\u001B[0m\n\u001B[0;32m   3509\u001B[0m     \u001B[38;5;28;01mif\u001B[39;00m is_iterator(key):\n\u001B[0;32m   3510\u001B[0m         key \u001B[38;5;241m=\u001B[39m \u001B[38;5;28mlist\u001B[39m(key)\n\u001B[1;32m-> 3511\u001B[0m     indexer \u001B[38;5;241m=\u001B[39m \u001B[38;5;28;43mself\u001B[39;49m\u001B[38;5;241;43m.\u001B[39;49m\u001B[43mcolumns\u001B[49m\u001B[38;5;241;43m.\u001B[39;49m\u001B[43m_get_indexer_strict\u001B[49m\u001B[43m(\u001B[49m\u001B[43mkey\u001B[49m\u001B[43m,\u001B[49m\u001B[43m \u001B[49m\u001B[38;5;124;43m\"\u001B[39;49m\u001B[38;5;124;43mcolumns\u001B[39;49m\u001B[38;5;124;43m\"\u001B[39;49m\u001B[43m)\u001B[49m[\u001B[38;5;241m1\u001B[39m]\n\u001B[0;32m   3513\u001B[0m \u001B[38;5;66;03m# take() does not accept boolean indexers\u001B[39;00m\n\u001B[0;32m   3514\u001B[0m \u001B[38;5;28;01mif\u001B[39;00m \u001B[38;5;28mgetattr\u001B[39m(indexer, \u001B[38;5;124m\"\u001B[39m\u001B[38;5;124mdtype\u001B[39m\u001B[38;5;124m\"\u001B[39m, \u001B[38;5;28;01mNone\u001B[39;00m) \u001B[38;5;241m==\u001B[39m \u001B[38;5;28mbool\u001B[39m:\n",
      "File \u001B[1;32m~\\AppData\\Local\\Programs\\Python\\Python310\\lib\\site-packages\\pandas\\core\\indexes\\base.py:5782\u001B[0m, in \u001B[0;36mIndex._get_indexer_strict\u001B[1;34m(self, key, axis_name)\u001B[0m\n\u001B[0;32m   5779\u001B[0m \u001B[38;5;28;01melse\u001B[39;00m:\n\u001B[0;32m   5780\u001B[0m     keyarr, indexer, new_indexer \u001B[38;5;241m=\u001B[39m \u001B[38;5;28mself\u001B[39m\u001B[38;5;241m.\u001B[39m_reindex_non_unique(keyarr)\n\u001B[1;32m-> 5782\u001B[0m \u001B[38;5;28;43mself\u001B[39;49m\u001B[38;5;241;43m.\u001B[39;49m\u001B[43m_raise_if_missing\u001B[49m\u001B[43m(\u001B[49m\u001B[43mkeyarr\u001B[49m\u001B[43m,\u001B[49m\u001B[43m \u001B[49m\u001B[43mindexer\u001B[49m\u001B[43m,\u001B[49m\u001B[43m \u001B[49m\u001B[43maxis_name\u001B[49m\u001B[43m)\u001B[49m\n\u001B[0;32m   5784\u001B[0m keyarr \u001B[38;5;241m=\u001B[39m \u001B[38;5;28mself\u001B[39m\u001B[38;5;241m.\u001B[39mtake(indexer)\n\u001B[0;32m   5785\u001B[0m \u001B[38;5;28;01mif\u001B[39;00m \u001B[38;5;28misinstance\u001B[39m(key, Index):\n\u001B[0;32m   5786\u001B[0m     \u001B[38;5;66;03m# GH 42790 - Preserve name from an Index\u001B[39;00m\n",
      "File \u001B[1;32m~\\AppData\\Local\\Programs\\Python\\Python310\\lib\\site-packages\\pandas\\core\\indexes\\base.py:5845\u001B[0m, in \u001B[0;36mIndex._raise_if_missing\u001B[1;34m(self, key, indexer, axis_name)\u001B[0m\n\u001B[0;32m   5842\u001B[0m     \u001B[38;5;28;01mraise\u001B[39;00m \u001B[38;5;167;01mKeyError\u001B[39;00m(\u001B[38;5;124mf\u001B[39m\u001B[38;5;124m\"\u001B[39m\u001B[38;5;124mNone of [\u001B[39m\u001B[38;5;132;01m{\u001B[39;00mkey\u001B[38;5;132;01m}\u001B[39;00m\u001B[38;5;124m] are in the [\u001B[39m\u001B[38;5;132;01m{\u001B[39;00maxis_name\u001B[38;5;132;01m}\u001B[39;00m\u001B[38;5;124m]\u001B[39m\u001B[38;5;124m\"\u001B[39m)\n\u001B[0;32m   5844\u001B[0m not_found \u001B[38;5;241m=\u001B[39m \u001B[38;5;28mlist\u001B[39m(ensure_index(key)[missing_mask\u001B[38;5;241m.\u001B[39mnonzero()[\u001B[38;5;241m0\u001B[39m]]\u001B[38;5;241m.\u001B[39munique())\n\u001B[1;32m-> 5845\u001B[0m \u001B[38;5;28;01mraise\u001B[39;00m \u001B[38;5;167;01mKeyError\u001B[39;00m(\u001B[38;5;124mf\u001B[39m\u001B[38;5;124m\"\u001B[39m\u001B[38;5;132;01m{\u001B[39;00mnot_found\u001B[38;5;132;01m}\u001B[39;00m\u001B[38;5;124m not in index\u001B[39m\u001B[38;5;124m\"\u001B[39m)\n",
      "\u001B[1;31mKeyError\u001B[0m: \"['result'] not in index\""
     ]
    }
   ],
   "source": [
    "# создаем таблицу с выборкой\n",
    "df_final = df2[['phone', 'name', 'name_an', 'result']]\n",
    "df_final = df_final[(df_final ['result'] != 'Норма')]"
   ],
   "metadata": {
    "collapsed": false,
    "pycharm": {
     "name": "#%%\n"
    }
   }
  },
  {
   "cell_type": "code",
   "execution_count": 302,
   "outputs": [],
   "source": [
    "# сохраняем в файл\n",
    "df_final.to_excel( 'med_results_easy.xlsx', sheet_name='sheet1', header=True, index=False )"
   ],
   "metadata": {
    "collapsed": false,
    "pycharm": {
     "name": "#%%\n"
    }
   }
  },
  {
   "cell_type": "code",
   "execution_count": 303,
   "outputs": [],
   "source": [
    "# сохраняем в базу на сервере\n",
    "def execute_values(conn, df, table):\n",
    "    tuples = [tuple(x) for x in df.to_numpy()]\n",
    "    cols = ','.join(list(df.columns))\n",
    "    query = \"INSERT INTO %s(%s) VALUES %%s\" % (table, cols)\n",
    "    cursor = conn.cursor()\n",
    "    try:\n",
    "        extras.execute_values(cursor, query, tuples)\n",
    "        conn.commit()\n",
    "    except (Exception, psycopg2.DatabaseError) as error:\n",
    "        print(\"Error: %s\" % error)\n",
    "        conn.rollback()\n",
    "        cursor.close()\n",
    "        return 1\n",
    "    cursor.close()\n",
    "\n",
    "sql = '''CREATE TABLE de11an.kore_med_results_easy(phone varchar(20),name varchar(50), name_an varchar(50), result varchar(10));'''\n",
    "cursor.execute(sql)\n",
    "execute_values(conn, df_final, 'de11an.kore_med_results_easy')"
   ],
   "metadata": {
    "collapsed": false,
    "pycharm": {
     "name": "#%%\n"
    }
   }
  },
  {
   "cell_type": "code",
   "execution_count": null,
   "outputs": [],
   "source": [
    "# отключаемся\n",
    "conn.commit()\n",
    "cursor.close()\n",
    "conn.close()"
   ],
   "metadata": {
    "collapsed": false,
    "pycharm": {
     "name": "#%%\n"
    }
   }
  },
  {
   "cell_type": "code",
   "execution_count": null,
   "outputs": [],
   "source": [],
   "metadata": {
    "collapsed": false,
    "pycharm": {
     "name": "#%%\n"
    }
   }
  }
 ],
 "metadata": {
  "kernelspec": {
   "display_name": "Python 3",
   "language": "python",
   "name": "python3"
  },
  "language_info": {
   "codemirror_mode": {
    "name": "ipython",
    "version": 2
   },
   "file_extension": ".py",
   "mimetype": "text/x-python",
   "name": "python",
   "nbconvert_exporter": "python",
   "pygments_lexer": "ipython2",
   "version": "2.7.6"
  }
 },
 "nbformat": 4,
 "nbformat_minor": 0
}