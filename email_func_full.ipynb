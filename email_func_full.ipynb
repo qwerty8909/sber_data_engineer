{
 "cells": [
  {
   "cell_type": "code",
   "execution_count": null,
   "id": "c07c8c42",
   "metadata": {
    "pycharm": {
     "name": "#%%\n"
    }
   },
   "outputs": [],
   "source": [
    "import random\n",
    "import re\n",
    "def pass_gen(length):\n",
    "    digits = '1234567890'\n",
    "    leters = 'ABCDEFGHIJKLMNOPQRSTUVWXYZ'\n",
    "    leters_2 = 'abcdefghijklmnopqrstuvwxyz'\n",
    "    symbols = '!@#$%^&*()-+'\n",
    "    password = ''\n",
    "    var = [digits, leters, leters_2, symbols]\n",
    "    if length < 12:\n",
    "        return print('Ошибка! Пароль должен иметь не менее 12 символов')\n",
    "    else:\n",
    "        password+=random.choice(digits)\n",
    "        password+=random.choice(leters)\n",
    "        password+=random.choice(leters_2)\n",
    "        password+=random.choice(symbols)\n",
    "        while len(password) < length:\n",
    "            password+=random.choice(var[random.randint(0,3)])\n",
    "        return password\n",
    "def email_gen(list_of_names):\n",
    "    emails = []\n",
    "    for i in list_of_names:\n",
    "        letter = 1\n",
    "        while i[1] + '.' + i[0][0:letter] + '@company.io' in emails:\n",
    "            letter+=1\n",
    "        emails.append(i[1] + '.' + i[0][0:letter] + '@company.io')\n",
    "    return emails\n",
    "\n",
    "##################################\n",
    "############# START ##############\n",
    "##################################\n",
    "\n",
    "strings = []\n",
    "failed = []\n",
    "list_of_names = []\n",
    "n = 0\n",
    "f = open('task_file.txt', 'r')\n",
    "for i in f:\n",
    "    strings.append(i.split(','))\n",
    "f.close()\n",
    "for i in range(len(strings)):\n",
    "    for j in range(len(strings[i])):\n",
    "        strings[i][j]=strings[i][j].replace(' ','')\n",
    "for i in range(len(strings)):\n",
    "    if re.findall(r'^$|\\W|\\d|NAME', strings[i][1]) or re.findall(r'[wrtplkhgfdszxcvbnm][wrtplkhgfdszxcvbnm][wrtplkhgfdszxcvbnm][wrtplkhgfdszxcvbnm]', strings[i][1]) or re.findall(r'^$|\\W|\\d|NAME', strings[i][2]) or re.findall(r'0......|\\D|^$', strings[i][3]) or len(strings[i][3]) != 7 or re.findall(r'\\W+\\n$|\\d|^$', strings[i][4]):\n",
    "        failed.append(i)\n",
    "    else:\n",
    "        list_of_names.append([strings[i][1],strings[i][2]])\n",
    "emails = email_gen(list_of_names)\n",
    "f_1 = open('task_file.txt', 'w')\n",
    "f_2 = open('task_file_1.txt', 'w')\n",
    "f_1.write('EMAIL, PASSWORD, LAST_NAME, TEL, CITY\\n')\n",
    "for i in range(len(strings)):\n",
    "    if i not in failed:\n",
    "        f_1.write(emails[n]+', '+pass_gen(12)+', '+strings[i][1]+', '+strings[i][2]+', '+strings[i][3]+', '+strings[i][4])\n",
    "        n+=1\n",
    "    else:\n",
    "        f_2.write(strings[i][1]+', '+strings[i][2]+', '+strings[i][3]+', '+strings[i][4])\n",
    "f_1.close()\n",
    "f_2.close()"
   ]
  }
 ],
 "metadata": {
  "kernelspec": {
   "display_name": "Python 3 (ipykernel)",
   "language": "python",
   "name": "python3"
  },
  "language_info": {
   "codemirror_mode": {
    "name": "ipython",
    "version": 3
   },
   "file_extension": ".py",
   "mimetype": "text/x-python",
   "name": "python",
   "nbconvert_exporter": "python",
   "pygments_lexer": "ipython3",
   "version": "3.9.12"
  }
 },
 "nbformat": 4,
 "nbformat_minor": 5
}