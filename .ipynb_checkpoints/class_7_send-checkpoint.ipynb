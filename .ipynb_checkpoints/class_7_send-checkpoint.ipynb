{
 "cells": [
  {
   "cell_type": "code",
   "execution_count": 1,
   "metadata": {
    "id": "zOOXN0Wghroi"
   },
   "outputs": [
    {
     "name": "stdout",
     "output_type": "stream",
     "text": [
      "{1: 1, 2: 16, 3: 81, 4: 256, 5: 625, 6: 1296, 7: 2401, 8: 4096, 9: 6561, 10: 10000}\n"
     ]
    }
   ],
   "source": [
    "\"\"\"Словари\"\"\"\n",
    "\n",
    "# 1.Создайте словарь, в котором ключами будут числа от 1 до 10, а значениями эти же числа, возведенные в 4 степень.\n",
    "my_dict = {}\n",
    "for i in range(1, 11):\n",
    "  my_dict[i] = i**4\n",
    "\n",
    "print(my_dict)\n",
    "\n"
   ]
  },
  {
   "cell_type": "code",
   "execution_count": null,
   "metadata": {
    "id": "hvhhp5ZfkvY2"
   },
   "outputs": [],
   "source": [
    "\"\"\"Вернемся к циклам\"\"\"\n",
    "\n",
    "# 1. На вход даны два списка. Выведите каждый элемент первого списка, если его нет во втором списке\n",
    "\n",
    "#Первый способ\n",
    "list_1 = input().split(',')\n",
    "list_2 = input().split(',')\n",
    "i = 0\n",
    "\n",
    "for elem1 in list_1:\n",
    "  for elem2 in list_2:\n",
    "    if elem1 == elem2:\n",
    "      i+=1\n",
    "  if i == 0:\n",
    "    print(elem1)\n",
    "\n",
    "#Второй способ\n",
    "list_1 = list(input())\n",
    "list_2 = list(input())\n",
    "\n",
    "for i in list_1:\n",
    "  if i in list_2:\n",
    "    continue\n",
    "  else:\n",
    "    print(i)\n",
    "\n",
    "# 2. Наполните множество уникальными квадратами введенных пользователем чисел. \n",
    "# Наполнение прекращается в тот момент, когда пользователь вводит 0. В конце выведите полученное множество на экран\n",
    "\n",
    "my_set = set()\n",
    "num = 7\n",
    "\n",
    "while num != 0:\n",
    "  num = int(input())\n",
    "  my_set.add(num**2)\n",
    "\n",
    "print(my_set)\n",
    "\n",
    "# 3. Допустим вы положили в некий финансовый инструмент x у.е под y процентов годовых. \n",
    "# Посчитайте через сколько лет сумма удвоится. Выведите как будет меняться сумма на счете от года к году в списке и количество лет, которое это займет.\n",
    "\n",
    "y = int(input())\n",
    "n, mlt = 0, 1\n",
    "mlt_list = []\n",
    "mlt_dict = {}\n",
    "\n",
    "while mlt<=2:\n",
    "  n+=1\n",
    "  mlt = (1+y/100)**n\n",
    "  mlt_list.append(mlt)\n",
    "  mlt_dict[n] = mlt\n",
    "\n",
    "print(n, mlt_list, mlt_dict)\n",
    "\n",
    "print(mlt_list, n, )\n",
    " \n",
    "# 4. Загадайте число\n",
    "# 1 способ\n",
    "dig = int(input())\n",
    "dig2 = int(input()) # число пк\n",
    "while dig != dig2:\n",
    "    print(\"пробуй снова\")\n",
    "    dig = int(input())\n",
    "print(\"бинго\")\n",
    "\n",
    "# 2 способ\n",
    "x = 34\n",
    "num = None\n",
    "\n",
    "while num != x:\n",
    "  num = int(input())\n",
    "  if num < x:\n",
    "    print('Больше')\n",
    "  elif num > x:\n",
    "    print('Меньше')\n",
    "if num == x:\n",
    "  print('Бинго')\n",
    "\n",
    "\n",
    "# 6.Выведите лестницу высоты N из чисел. На каждом шаге ступенька должна состоять из чисел от 1 до i, где i - номер текущей итерации внешнего цикла\n",
    "n = int(input())\n",
    "for i in range(1, n+1):\n",
    "  l = []\n",
    "  for j in range(i):\n",
    "    l.append(j+1)\n",
    "  print(l)"
   ]
  },
  {
   "cell_type": "code",
   "execution_count": null,
   "metadata": {
    "id": "gZox2mgRh6uY"
   },
   "outputs": [],
   "source": [
    "\"\"\"Break+continue\"\"\"\n",
    "\n",
    "# Пусть пользователь бесконечно вводит числа до тех пор пока не введет 0. \n",
    "# Проверяйте являются ли эти числа квадратами целых чисел, если нет, то \n",
    "# возводите их в квадрат и добавляйте полученные квадраты в список, а если да, \n",
    "# то сразу пишите их в список. В случае, если пользователь вводит числа больше \n",
    "# 100, то добавлять в список не надо. \n",
    "\n",
    "my_list = []\n",
    "num = None\n",
    "while True:\n",
    "  num = int(input())\n",
    "  if num == 0:\n",
    "    break\n",
    "  elif num<=100:\n",
    "    square = num**(0.5)\n",
    "    if int(square) == square:\n",
    "      my_list.append(num)\n",
    "      print(\"Добавляем\")\n",
    "    else:\n",
    "      my_list.append(num**2)\n",
    "      print(\"Не квадрат целого числа, возводим в квадрат и добаляем\")\n",
    "  else:\n",
    "    print('Больше 100, не добавляем')\n",
    "    continue\n",
    "my_list "
   ]
  },
  {
   "cell_type": "code",
   "execution_count": 2,
   "metadata": {
    "id": "ect6gXrki-7D"
   },
   "outputs": [
    {
     "data": {
      "text/plain": [
       "'NO'"
      ]
     },
     "execution_count": 2,
     "metadata": {},
     "output_type": "execute_result"
    }
   ],
   "source": [
    "\"\"\"Функции\"\"\"\n",
    "\n",
    "# 1.Анаграммой строки S1 называется такая строка S2, которая получается из строки S1 путем перестановки символов. \n",
    "# Напишите функцию, которая определяет является ли вторая строка анаграммой первой, возвращает YES, если является и NO, если не является.\n",
    "\n",
    "\n",
    "#Для простых кейсов\n",
    "def anagramm_check(list1, list2):\n",
    "  if len(list1)==len(list2) and len(set(list1)-set(list2))==0:\n",
    "    print('YES')\n",
    "  else:\n",
    "    print('NO')\n",
    "\n",
    "\n",
    "#Для сложных кейсов\n",
    "def check_anagram(string_1, string_2):\n",
    "  list_1, list_2 = list(string_1), list(string_2)\n",
    "  list_1.sort(), list_2.sort()\n",
    "  result = 'YES' if list_1 == list_2 else 'NO'\n",
    "  return result\n",
    "\n",
    "check_anagram('paapa', 'pappa')\n"
   ]
  }
 ],
 "metadata": {
  "colab": {
   "provenance": []
  },
  "kernelspec": {
   "display_name": "Python 3 (ipykernel)",
   "language": "python",
   "name": "python3"
  },
  "language_info": {
   "codemirror_mode": {
    "name": "ipython",
    "version": 3
   },
   "file_extension": ".py",
   "mimetype": "text/x-python",
   "name": "python",
   "nbconvert_exporter": "python",
   "pygments_lexer": "ipython3",
   "version": "3.9.12"
  }
 },
 "nbformat": 4,
 "nbformat_minor": 1
}
